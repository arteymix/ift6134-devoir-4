{
 "cells": [
  {
   "cell_type": "code",
   "execution_count": null,
   "metadata": {},
   "outputs": [],
   "source": [
    "from keras.models import Sequential, Model\n",
    "from keras.metrics import mean_squared_error\n",
    "from keras.layers import InputLayer, BatchNormalization, Conv2D, Conv2DTranspose, Dense, Layer, UpSampling2D, MaxPooling2D, Flatten, Reshape, Input, Activation, Lambda\n",
    "from keras.callbacks import ModelCheckpoint\n",
    "import keras.backend as K\n",
    "from skimage.transform import resize\n",
    "from skimage.io import imread\n",
    "from zipfile import ZipFile\n",
    "from io import BytesIO\n",
    "import numpy as np\n",
    "import matplotlib.pyplot as plt\n",
    "%matplotlib inline\n",
    "import tensorflow as tf"
   ]
  },
  {
   "cell_type": "markdown",
   "metadata": {},
   "source": [
    "# 1. Generating Faces"
   ]
  },
  {
   "cell_type": "code",
   "execution_count": null,
   "metadata": {},
   "outputs": [],
   "source": [
    "%%time\n",
    "with ZipFile('datasets/img_align_celeba.zip', 'r') as zf:\n",
    "    keys = [name for name in zf.namelist() if name.endswith('.jpg')]\n",
    "    dataset = np.memmap('datasets/blob', dtype='float32', mode='w+', shape=(len(keys), 64, 64, 3))\n",
    "    for i, k in enumerate(keys):\n",
    "        if i % 1000 == 0:\n",
    "            print('{0:.2f}%'.format(100 * i / len(keys)))\n",
    "        img = imread(BytesIO(zf.read(k))) \n",
    "        img = img + np.random.uniform(0, 1, size=img.shape)\n",
    "        dataset[i] = resize(img, output_shape=(64, 64, 3), mode='constant', preserve_range=True)"
   ]
  },
  {
   "cell_type": "code",
   "execution_count": null,
   "metadata": {},
   "outputs": [],
   "source": [
    "dataset = np.memmap('datasets/blob', dtype='float32', mode='r', shape=(202599, 64, 64, 3))"
   ]
  },
  {
   "cell_type": "code",
   "execution_count": null,
   "metadata": {},
   "outputs": [],
   "source": [
    "plt.hist(dataset[:100].flatten(), bins=500, density=True)\n",
    "plt.savefig('figures/preprocessing-color-distribution-histogram', dpi=300)"
   ]
  },
  {
   "cell_type": "code",
   "execution_count": null,
   "metadata": {},
   "outputs": [],
   "source": [
    "train_X = dataset\n",
    "train_y = train_X"
   ]
  },
  {
   "cell_type": "markdown",
   "metadata": {},
   "source": [
    "# 2. Model"
   ]
  },
  {
   "cell_type": "code",
   "execution_count": null,
   "metadata": {},
   "outputs": [],
   "source": [
    "from keras.layers import LeakyReLU, Activation\n",
    "\n",
    "def build_encoder():\n",
    "    model = Sequential()\n",
    "    model.add(InputLayer(input_shape=(64,64,3)))\n",
    "    \n",
    "    model.add(Conv2D(32, kernel_size=(4,4), strides=2, padding='same', use_bias=False))\n",
    "    model.add(BatchNormalization())\n",
    "    model.add(LeakyReLU())\n",
    "    \n",
    "    model.add(Conv2D(64, kernel_size=(4,4), strides=2, padding='same', use_bias=False))\n",
    "    model.add(BatchNormalization())\n",
    "    model.add(LeakyReLU())\n",
    "\n",
    "    model.add(Conv2D(128, kernel_size=(4,4), strides=2, padding='same', use_bias=False))\n",
    "    model.add(BatchNormalization())\n",
    "    model.add(LeakyReLU())\n",
    "    \n",
    "    model.add(Conv2D(256, kernel_size=(4,4), strides=2, padding='same', use_bias=False))\n",
    "    model.add(BatchNormalization())\n",
    "    model.add(LeakyReLU())\n",
    "    \n",
    "    model.add(Flatten())\n",
    "    \n",
    "    return model"
   ]
  },
  {
   "cell_type": "markdown",
   "metadata": {},
   "source": [
    "# 3. Architectures"
   ]
  },
  {
   "cell_type": "code",
   "execution_count": null,
   "metadata": {},
   "outputs": [],
   "source": [
    "def build_strided_deconv_decoder(input_shape):\n",
    "    model = Sequential()\n",
    "    model.add(InputLayer(input_shape))\n",
    "    \n",
    "    # input is already normalized since it follows a N(0,1)\n",
    "    model.add(Dense(4096))\n",
    "    model.add(Reshape((4, 4, 256)))\n",
    "        \n",
    "    model.add(Conv2DTranspose(128, kernel_size=(3,3), strides=2, padding='same', use_bias=False))\n",
    "    model.add(BatchNormalization())\n",
    "    model.add(LeakyReLU())\n",
    "    \n",
    "    model.add(Conv2DTranspose(64, kernel_size=(3,3), strides=2, padding='same', use_bias=False))\n",
    "    model.add(BatchNormalization())\n",
    "    model.add(LeakyReLU())\n",
    "\n",
    "    model.add(Conv2DTranspose(32, kernel_size=(3,3), strides=2, padding='same', use_bias=False))\n",
    "    model.add(BatchNormalization())\n",
    "    model.add(LeakyReLU())\n",
    "            \n",
    "    model.add(Conv2DTranspose(3, kernel_size=(3,3), strides=2, padding='same', activation='sigmoid'))\n",
    "        \n",
    "    return model"
   ]
  },
  {
   "cell_type": "code",
   "execution_count": null,
   "metadata": {},
   "outputs": [],
   "source": [
    "class NearestNeighborUpsampling2D(Layer):\n",
    "    def __init__(self, size=(2,2), **kwargs):\n",
    "        self.size = size\n",
    "        super(NearestNeighborUpsampling2D, self).__init__(**kwargs)\n",
    "    def build(self, input_shape):\n",
    "        super(NearestNeighborUpsampling2D, self).build(input_shape)\n",
    "    def call(self, x):\n",
    "        w = K.shape(x)[1]\n",
    "        h = K.shape(x)[2]\n",
    "        return tf.image.resize_nearest_neighbor(x, (self.size[0] * w, self.size[1] * h))\n",
    "    def compute_output_shape(self, input_shape):\n",
    "        return (input_shape[0], self.size[0]*input_shape[1], self.size[1]*input_shape[2], input_shape[3])\n",
    "\n",
    "def build_nearest_upsampling_decoder(input_shape):\n",
    "    model = Sequential()\n",
    "    model.add(InputLayer(input_shape))\n",
    "    \n",
    "    model.add(Dense(4096))\n",
    "    model.add(Reshape((4, 4, 256)))\n",
    "    \n",
    "    model.add(NearestNeighborUpsampling2D(size=(2,2)))\n",
    "    model.add(Conv2D(128, kernel_size=(3,3), padding='same', use_bias=False))\n",
    "    model.add(BatchNormalization())\n",
    "    model.add(LeakyReLU())\n",
    "    \n",
    "    model.add(NearestNeighborUpsampling2D(size=(2,2)))\n",
    "    model.add(Conv2D(64, kernel_size=(3,3), padding='same', use_bias=False))\n",
    "    model.add(BatchNormalization())\n",
    "    model.add(LeakyReLU())\n",
    "    \n",
    "    model.add(NearestNeighborUpsampling2D(size=(2,2)))\n",
    "    model.add(Conv2D(32, kernel_size=(3,3), padding='same', use_bias=False))\n",
    "    model.add(BatchNormalization())\n",
    "    model.add(LeakyReLU())\n",
    "    \n",
    "    model.add(NearestNeighborUpsampling2D(size=(2,2)))\n",
    "    model.add(Conv2D(3, kernel_size=(3,3), padding='same', activation='sigmoid'))\n",
    "        \n",
    "    return model"
   ]
  },
  {
   "cell_type": "code",
   "execution_count": null,
   "metadata": {},
   "outputs": [],
   "source": [
    "class BilinearUpSampling2D(Layer):\n",
    "    def __init__(self, size=(2,2), **kwargs):\n",
    "        self.size = size\n",
    "        super(BilinearUpSampling2D, self).__init__(**kwargs)\n",
    "    def build(self, input_shape):\n",
    "        super(BilinearUpSampling2D, self).build(input_shape)\n",
    "    def call(self, x):\n",
    "        w = K.shape(x)[1]\n",
    "        h = K.shape(x)[2]\n",
    "        return tf.image.resize_bilinear(x, (self.size[0] * w, self.size[1] * h))\n",
    "    def compute_output_shape(self, input_shape):\n",
    "        return (input_shape[0], self.size[0]*input_shape[1], self.size[1]*input_shape[2], input_shape[3])\n",
    "\n",
    "def build_bilinear_upsampling_decoder(input_shape):\n",
    "    model = Sequential()\n",
    "    model.add(InputLayer(input_shape))\n",
    "    \n",
    "    model.add(Dense(4096))\n",
    "    model.add(Reshape((4, 4, 256)))\n",
    "    \n",
    "    model.add(BilinearUpSampling2D(size=(2,2)))\n",
    "    model.add(Conv2D(128, kernel_size=(3,3), padding='same', use_bias=False))\n",
    "    model.add(BatchNormalization())\n",
    "    model.add(LeakyReLU())\n",
    "    \n",
    "    model.add(BilinearUpSampling2D(size=(2,2)))\n",
    "    model.add(Conv2D(64, kernel_size=(3,3), padding='same', use_bias=False))\n",
    "    model.add(BatchNormalization())\n",
    "    model.add(LeakyReLU())\n",
    "    \n",
    "    model.add(BilinearUpSampling2D(size=(2,2)))\n",
    "    model.add(Conv2D(32, kernel_size=(3,3), padding='same', use_bias=False))\n",
    "    model.add(BatchNormalization())\n",
    "    model.add(LeakyReLU())\n",
    "    \n",
    "    model.add(BilinearUpSampling2D(size=(2,2)))\n",
    "    model.add(Conv2D(3, kernel_size=(3,3), padding='same', activation='sigmoid'))\n",
    "        \n",
    "    return model"
   ]
  },
  {
   "cell_type": "code",
   "execution_count": null,
   "metadata": {},
   "outputs": [],
   "source": [
    "class GaussianSample(Layer):\n",
    "    def call(self, inputs):\n",
    "        mu, log_sigma = inputs\n",
    "        # inspired from: https://github.com/keras-team/keras/blob/master/examples/variational_autoencoder.py#L34\n",
    "        # but here we let the model approximate the stdev instead of the variance\n",
    "        epsilon = K.random_normal(shape=K.shape(mu), mean=0, stddev=1)\n",
    "        # mean + std * epsilon ~ N(mean, std) since epsilon ~ N(0, 1)\n",
    "           \n",
    "        # Kullback-Leibler divergence to N(0,1)\n",
    "        kl_loss = -0.5 * K.sum(1 + 2*log_sigma - K.square(mu) - K.exp(2*log_sigma), axis=-1)\n",
    "        self.add_loss(K.mean(kl_loss), inputs=[mu, log_sigma])\n",
    "        \n",
    "        return mu + (K.exp(log_sigma) * epsilon)\n",
    "    \n",
    "class GaussianImportanceWeightedSample(GaussianSample):\n",
    "    def __init__(self, samples=5, **kwargs):\n",
    "        self.samples = samples\n",
    "        super(GaussianImportanceWeightedSample, self).__init__(**kwargs)\n",
    "    def call(self, inputs):\n",
    "        z = super(GaussianImportanceWeightedSample, self).call(inputs)\n",
    "        for _ in range(self.samples-1):\n",
    "            z = z + super(GaussianImportanceWeightedSample, self).call(inputs)\n",
    "        return z / self.samples"
   ]
  },
  {
   "cell_type": "code",
   "execution_count": null,
   "metadata": {},
   "outputs": [],
   "source": [
    "# MSE is averaged by pixel, but we don't wan't that because KL is proportional to the latent space size\n",
    "def scaled_mean_squared_error(y_true, y_pred):\n",
    "    return 64 * 64 * 3 * K.mean(K.sum(K.square(y_true - y_pred), axis=-1))"
   ]
  },
  {
   "cell_type": "code",
   "execution_count": null,
   "metadata": {},
   "outputs": [],
   "source": [
    "from keras.losses import binary_crossentropy\n",
    "\n",
    "def build_model(encoder, decoder):\n",
    "    x = Input((64, 64, 3))\n",
    "    \n",
    "    enc = encoder()\n",
    "    h = enc(x)\n",
    "    h = Dense(100, activation='tanh')(h)\n",
    "    \n",
    "    z_mean = Dense(100)(h)\n",
    "    z_log_std = Dense(100)(h)\n",
    "    \n",
    "    z = GaussianSample()([z_mean, z_log_std])\n",
    "   \n",
    "    dec = decoder(input_shape=(100,))\n",
    "    \n",
    "    y = dec(z)\n",
    "\n",
    "    model = Model(inputs=[x], outputs=[y, z])\n",
    "        \n",
    "    model.compile(optimizer='adam', loss=[scaled_mean_squared_error, None])\n",
    "\n",
    "    return model"
   ]
  },
  {
   "cell_type": "code",
   "execution_count": null,
   "metadata": {},
   "outputs": [],
   "source": [
    "vae_strided_model = build_model(build_encoder, build_strided_deconv_decoder)\n",
    "vae_strided_model_history = vae_strided_model.fit(train_X[:1000], train_y[:1000], validation_split=0.1, epochs=20, batch_size=64, callbacks=[ModelCheckpoint('models/vae-strided-deconv-decoder.h5')])"
   ]
  },
  {
   "cell_type": "code",
   "execution_count": null,
   "metadata": {},
   "outputs": [],
   "source": [
    "vae_nearest_model = build_model(build_encoder, build_nearest_upsampling_decoder)\n",
    "vae_nearest_model_history = vae_nearest_model.fit(train_X[:1000], train_y[:1000], epochs=20, callbacks=[ModelCheckpoint('models/vae-nearest-neighbor-upsampling-decoder.h5')])"
   ]
  },
  {
   "cell_type": "code",
   "execution_count": null,
   "metadata": {},
   "outputs": [],
   "source": [
    "vae_bilinear_model = build_model(build_encoder, build_bilinear_upsampling_decoder)\n",
    "vae_bilinear_model_history = vae_bilinear_model.fit(train_X[:1000], train_y[:1000], epochs=20, callbacks=[ModelCheckpoint('models/vae-bilinear-upsampling-decoder.h5')])"
   ]
  },
  {
   "cell_type": "code",
   "execution_count": null,
   "metadata": {},
   "outputs": [],
   "source": [
    "from keras.models import load_model\n",
    "vae_strided_model = load_model('models/vae-strided-deconv-decoder.h5', custom_objects={'GaussianSample': GaussianSample, 'NearestNeighborUpsampling2D': NearestNeighborUpsampling2D})\n",
    "vae_nearest_model = load_model('models/vae-nearest-neighbor-upsampling-decoder.h5', custom_objects={'GaussianSample': GaussianSample, 'NearestNeighborUpsampling2D': NearestNeighborUpsampling2D})\n",
    "vae_bilinear_model = load_model('models/vae-bilinear-upsampling-decoder.h5', custom_objects={'GaussianSample': GaussianSample, 'BilinearUpSampling2D': BilinearUpSampling2D})"
   ]
  },
  {
   "cell_type": "code",
   "execution_count": null,
   "metadata": {},
   "outputs": [],
   "source": [
    "fig, axs = plt.subplots(4, 8, figsize=(8*2, 4*2))\n",
    "fig.subplots_adjust(wspace=0, hspace=0)\n",
    "\n",
    "for j in range(8):\n",
    "    axs[0][j].imshow(train_X[j])\n",
    "    axs[0][j].axis('off')\n",
    "\n",
    "for i, m in enumerate([vae_strided_model, vae_nearest_model, vae_bilinear_model]):\n",
    "    r = m.predict(train_X[:8].reshape(8, 64, 64, 3))\n",
    "    for j in range(8):\n",
    "        axs[i+1][j].imshow(r[0][j])\n",
    "        axs[i+1][j].axis('off')\n",
    "plt.savefig('figures/examples-of-reconstructions', dpi=300)"
   ]
  },
  {
   "cell_type": "code",
   "execution_count": null,
   "metadata": {},
   "outputs": [],
   "source": [
    "from scipy.stats import norm\n",
    "z_dist = vae_strided_model.predict(train_X[:1000])[1]\n",
    "plt.hist(z_dist[:,:10], bins=50, histtype='step', density=True)\n",
    "plt.plot(np.linspace(-6, 6), norm.pdf(np.linspace(-6, 6)))\n",
    "plt.xlabel('z')\n",
    "plt.ylabel('Densité')\n",
    "plt.savefig('figures/latent-space-distribution', dpi=300)"
   ]
  },
  {
   "cell_type": "markdown",
   "metadata": {},
   "source": [
    "# 4. Variants"
   ]
  },
  {
   "cell_type": "code",
   "execution_count": null,
   "metadata": {},
   "outputs": [],
   "source": [
    "def build_wae_model(encoder, decoder):\n",
    "    x = Input((64, 64, 3))\n",
    "    \n",
    "    enc = encoder()\n",
    "    h = Dense(100, activation='tanh')(enc(x))\n",
    "    \n",
    "    z_mean = Dense(100)(h)\n",
    "    z_log_std = Dense(100)(h)\n",
    "    \n",
    "    z = GaussianImportanceWeightedSample(samples=5)([z_mean, z_log_std])\n",
    "   \n",
    "    dec = decoder(input_shape=(100,))\n",
    "    \n",
    "    y = dec(z)\n",
    "\n",
    "    model = Model(inputs=[x], outputs=[y, z])\n",
    "        \n",
    "    model.compile(optimizer='adam', loss=[scaled_mean_squared_error, None])\n",
    "\n",
    "    return model"
   ]
  },
  {
   "cell_type": "code",
   "execution_count": null,
   "metadata": {},
   "outputs": [],
   "source": [
    "weighted_vae_strided_model = build_wae_model(build_encoder, build_strided_deconv_decoder)\n",
    "weighted_vae_strided_model_history = weighted_vae_strided_model.fit(train_X[:1000], train_y[:1000], epochs=20, callbacks=[ModelCheckpoint('models/vae-weighted-strided-deconv-decoder.h5')])"
   ]
  },
  {
   "cell_type": "code",
   "execution_count": null,
   "metadata": {},
   "outputs": [],
   "source": [
    "fig, axs = plt.subplots(3, 8, figsize=(8*2, 3*2))\n",
    "fig.subplots_adjust(wspace=0, hspace=0)\n",
    "\n",
    "for j in range(8):\n",
    "    axs[0][j].imshow(train_X[j])\n",
    "    axs[0][j].axis('off')\n",
    "\n",
    "for i, m in enumerate([vae_strided_model, weighted_vae_strided_model]):\n",
    "    r = m.predict(train_X[:8].reshape(8, 64, 64, 3))\n",
    "    for j in range(8):\n",
    "        axs[i+1][j].imshow(r[0][j])\n",
    "        axs[i+1][j].axis('off')\n",
    "plt.savefig('figures/weighted-vae-vs-vae', dpi=300)"
   ]
  },
  {
   "cell_type": "markdown",
   "metadata": {},
   "source": [
    "# Qualitative Evaluations\n",
    "\n",
    "From now on, we'll use the VAE with strided deconvolution upsampling since it shown the best results so far. We will also train it on a larger subset of the dataset."
   ]
  },
  {
   "cell_type": "code",
   "execution_count": null,
   "metadata": {},
   "outputs": [],
   "source": [
    "vae_strided_model = build_model(build_encoder, build_nearest_upsampling_decoder)\n",
    "vae_strided_model_history = vae_strided_model.fit(train_X[:10000], train_y[:10000], epochs=10, callbacks=[ModelCheckpoint('models/vae-best-nearest-neighbor-upsampling-decoder.h5')])"
   ]
  },
  {
   "cell_type": "code",
   "execution_count": null,
   "metadata": {},
   "outputs": [],
   "source": [
    "vae_strided_model_generator = vae_strided_model.layers[-1]"
   ]
  },
  {
   "cell_type": "markdown",
   "metadata": {},
   "source": [
    "## a)"
   ]
  },
  {
   "cell_type": "code",
   "execution_count": null,
   "metadata": {},
   "outputs": [],
   "source": [
    "import numpy as np\n",
    "np.random.normal(size=100)"
   ]
  },
  {
   "cell_type": "code",
   "execution_count": null,
   "metadata": {},
   "outputs": [],
   "source": [
    "fig, axs = plt.subplots(4, 4)\n",
    "fig.subplots_adjust(wspace=0, hspace=0)\n",
    "for i in range(4):\n",
    "    for j in range(4):\n",
    "        axs[i][j].imshow()\n",
    "vae_strided_model.layers[-1]()\n",
    "plt.savefig('figures/vae-strided-samples', dpi=300)"
   ]
  },
  {
   "cell_type": "markdown",
   "metadata": {},
   "source": [
    "## b)"
   ]
  },
  {
   "cell_type": "code",
   "execution_count": null,
   "metadata": {},
   "outputs": [],
   "source": [
    "fig, axs = plt.subplots(2, 10, figsize=(2*5, 2*10))\n",
    "fig.subplots_adjust(wspace=0, hspace=0)\n",
    "mu_space = np.linspace(0, 5, num=5) # 0 to 5 standard deviation\n",
    "for j in range(5):\n",
    "    latent_repr = K.eval(vae_strided_model_generator(K.variable(mu_space[j]*np.eye(100))))\n",
    "    for i in range(10):\n",
    "        axs[i][j].imshow(latent_repr[j].astype('uint8'))\n",
    "        axs[i][j].axis('off')\n",
    "plt.savefig('figures/vae-strided-progression-in-latent-space', dpi=300)"
   ]
  },
  {
   "cell_type": "markdown",
   "metadata": {},
   "source": [
    "## c)"
   ]
  },
  {
   "cell_type": "code",
   "execution_count": null,
   "metadata": {},
   "outputs": [],
   "source": [
    "z_1 = np.random.normal(size=100)\n",
    "z_2 = np.random.normal(size=100)"
   ]
  }
 ],
 "metadata": {
  "kernelspec": {
   "display_name": "Python 3.6.2",
   "language": "python",
   "name": "python3.6.2"
  },
  "language_info": {
   "codemirror_mode": {
    "name": "ipython",
    "version": 3
   },
   "file_extension": ".py",
   "mimetype": "text/x-python",
   "name": "python",
   "nbconvert_exporter": "python",
   "pygments_lexer": "ipython3",
   "version": "3.6.2"
  }
 },
 "nbformat": 4,
 "nbformat_minor": 2
}
