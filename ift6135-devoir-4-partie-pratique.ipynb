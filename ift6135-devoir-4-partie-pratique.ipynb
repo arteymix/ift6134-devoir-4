{
 "cells": [
  {
   "cell_type": "code",
   "execution_count": null,
   "metadata": {},
   "outputs": [],
   "source": [
    "from keras.models import Sequential, Model\n",
    "from keras.metrics import mean_squared_error\n",
    "from keras.layers import InputLayer, BatchNormalization, Conv2D, Conv2DTranspose, Dense, Layer, UpSampling2D, MaxPooling2D, Flatten, Reshape, Input, Activation, Lambda\n",
    "from keras.callbacks import ModelCheckpoint\n",
    "import keras.backend as K\n",
    "from skimage.transform import resize\n",
    "from skimage.io import imread\n",
    "from zipfile import ZipFile\n",
    "from io import BytesIO\n",
    "import numpy as np\n",
    "import matplotlib.pyplot as plt\n",
    "%matplotlib inline\n",
    "import tensorflow as tf"
   ]
  },
  {
   "cell_type": "markdown",
   "metadata": {},
   "source": [
    "# 1. Generating Faces"
   ]
  },
  {
   "cell_type": "code",
   "execution_count": null,
   "metadata": {},
   "outputs": [],
   "source": [
    "%%time\n",
    "with ZipFile('datasets/img_align_celeba.zip', 'r') as zf:\n",
    "    keys = [name for name in zf.namelist() if name.endswith('.jpg')]\n",
    "    dataset = np.memmap('datasets/blob', dtype='uint8', mode='w+', shape=(len(keys), 64, 64, 3))\n",
    "    for i, k in enumerate(keys):\n",
    "        if i % 1000 == 0:\n",
    "            print('{0:.2f}%'.format(100 * i / len(keys)))\n",
    "            img = imread(BytesIO(zf.read(k)))\n",
    "            dataset[i] = resize(img, output_shape=(64, 64, 3), mode='constant', preserve_range=True)"
   ]
  },
  {
   "cell_type": "code",
   "execution_count": null,
   "metadata": {},
   "outputs": [],
   "source": [
    "plt.hist(dataset[0].flatten(), bins=100, density=True)\n",
    "plt.savefig('figures/preprocessing-color-distribution-histogram', dpi=300)"
   ]
  },
  {
   "cell_type": "code",
   "execution_count": null,
   "metadata": {},
   "outputs": [],
   "source": [
    "dataset = np.memmap('datasets/blob', dtype='uint8', mode='r', shape=(len(keys), 64, 64, 3))"
   ]
  },
  {
   "cell_type": "code",
   "execution_count": null,
   "metadata": {},
   "outputs": [],
   "source": [
    "train_X = dataset[:10000]\n",
    "train_y = train_X"
   ]
  },
  {
   "cell_type": "markdown",
   "metadata": {},
   "source": [
    "# 2. Model"
   ]
  },
  {
   "cell_type": "code",
   "execution_count": null,
   "metadata": {},
   "outputs": [],
   "source": [
    "def build_encoder():\n",
    "    model = Sequential()\n",
    "    model.add(InputLayer(input_shape=(64,64,3)))\n",
    "    \n",
    "    model.add(BatchNormalization())\n",
    "    model.add(Conv2D(32, kernel_size=(3,3), padding='same'))\n",
    "    model.add(Conv2D(32, kernel_size=(3,3), padding='same'))\n",
    "    model.add(MaxPooling2D(pool_size=(2,2)))\n",
    "    model.add(Activation('relu'))\n",
    "    \n",
    "    model.add(BatchNormalization())\n",
    "    model.add(Conv2D(64, kernel_size=(3,3), padding='same'))\n",
    "    model.add(Conv2D(64, kernel_size=(3,3), padding='same'))\n",
    "    model.add(MaxPooling2D(pool_size=(2,2)))\n",
    "    model.add(Activation('relu'))\n",
    "\n",
    "    # flatten into 16x16x64 components\n",
    "    model.add(BatchNormalization())\n",
    "    model.add(Flatten())\n",
    "    \n",
    "    return model"
   ]
  },
  {
   "cell_type": "markdown",
   "metadata": {},
   "source": [
    "# 3. Architectures"
   ]
  },
  {
   "cell_type": "code",
   "execution_count": null,
   "metadata": {},
   "outputs": [],
   "source": [
    "def build_strided_deconv_decoder(input_shape):\n",
    "    model = Sequential()\n",
    "    model.add(InputLayer(input_shape))\n",
    "    \n",
    "    # unpack into 8*8\n",
    "    # input is already normalized since it follows a N(0,1)\n",
    "    model.add(Dense(16*16*64))\n",
    "    model.add(Reshape((16, 16, 64)))\n",
    "    \n",
    "    model.add(Conv2DTranspose(32, kernel_size=(3,3), strides=2, padding='same'))\n",
    "    model.add(Conv2DTranspose(32, kernel_size=(3,3), padding='same'))\n",
    "    model.add(Activation('relu'))\n",
    "    \n",
    "    model.add(Conv2DTranspose(3, kernel_size=(3,3), strides=2, padding='same'))\n",
    "    model.add(Conv2DTranspose(3, kernel_size=(3,3), padding='same'))\n",
    "    model.add(Activation('tanh'))\n",
    "    model.add(Lambda(lambda x: 255*(x+1))) # rescale to RGB\n",
    "        \n",
    "    return model"
   ]
  },
  {
   "cell_type": "code",
   "execution_count": null,
   "metadata": {},
   "outputs": [],
   "source": [
    "class NearestNeighborUpsampling2D(Layer):\n",
    "    def __init__(self, size=(2,2), **kwargs):\n",
    "        self.size = size\n",
    "        super(NearestNeighborUpsampling2D, self).__init__(**kwargs)\n",
    "    def build(self, input_shape):\n",
    "        super(NearestNeighborUpsampling2D, self).build(input_shape)\n",
    "    def call(self, x):\n",
    "        w = K.shape(x)[1]\n",
    "        h = K.shape(x)[2]\n",
    "        return tf.image.resize_nearest_neighbor(x, (self.size[0] * w, self.size[1] * h))\n",
    "    def compute_output_shape(self, input_shape):\n",
    "        return (input_shape[0], 2*input_shape[1], 2*input_shape[2], input_shape[3])\n",
    "\n",
    "def build_nearest_upsampling_decoder(input_shape):\n",
    "    model = Sequential()\n",
    "    model.add(InputLayer(input_shape))\n",
    "    \n",
    "    # unpack into 8*8\n",
    "    model.add(Dense(16*16*64))\n",
    "    model.add(Reshape((16, 16, 64)))\n",
    "    \n",
    "    model.add(NearestNeighborUpsampling2D(size=(2,2)))\n",
    "    model.add(Conv2D(32, kernel_size=(3,3), padding='same'))\n",
    "    model.add(Conv2D(32, kernel_size=(3,3), padding='same'))\n",
    "    model.add(Activation('relu'))\n",
    "    \n",
    "    model.add(NearestNeighborUpsampling2D(size=(2,2)))\n",
    "    model.add(Conv2D(3, kernel_size=(3,3), padding='same'))\n",
    "    model.add(Conv2D(3, kernel_size=(3,3), padding='same'))\n",
    "    model.add(Activation('relu'))\n",
    "        \n",
    "    return model"
   ]
  },
  {
   "cell_type": "code",
   "execution_count": null,
   "metadata": {},
   "outputs": [],
   "source": [
    "class BilinearUpSampling2D(Layer):\n",
    "    def __init__(self, size=(2,2), **kwargs):\n",
    "        self.size = size\n",
    "        super(BilinearUpSampling2D, self).__init__(**kwargs)\n",
    "    def build(self, input_shape):\n",
    "        super(BilinearUpSampling2D, self).build(input_shape)\n",
    "    def call(self, x):\n",
    "        w = K.shape(x)[1]\n",
    "        h = K.shape(x)[2]\n",
    "        return tf.image.resize_bilinear(x, (self.size[0] * w, self.size[1] * h))\n",
    "    def compute_output_shape(self, input_shape):\n",
    "        return (input_shape[0], 2*input_shape[1], 2*input_shape[2], input_shape[3])\n",
    "\n",
    "def build_bilinear_upsampling_decoder(input_shape):\n",
    "    model = Sequential()\n",
    "    model.add(InputLayer(input_shape))\n",
    "    \n",
    "    # unpack into 8*8\n",
    "    model.add(Dense(16*16*64))\n",
    "    model.add(Reshape((16, 16, 64)))\n",
    "    \n",
    "    model.add(BilinearUpSampling2D(size=(2,2)))\n",
    "    model.add(Conv2D(32, kernel_size=(3,3), padding='same'))\n",
    "    model.add(Conv2D(32, kernel_size=(3,3), padding='same'))\n",
    "    model.add(Activation('relu'))\n",
    "    \n",
    "    model.add(BilinearUpSampling2D(size=(2,2)))\n",
    "    model.add(Conv2D(3, kernel_size=(3,3), padding='same'))\n",
    "    model.add(Conv2D(3, kernel_size=(3,3), padding='same'))\n",
    "    model.add(Activation('relu'))\n",
    "        \n",
    "    return model"
   ]
  },
  {
   "cell_type": "code",
   "execution_count": null,
   "metadata": {},
   "outputs": [],
   "source": [
    "class GaussianSample(Layer):\n",
    "    def call(self, inputs):\n",
    "        mu, log_sigma = inputs\n",
    "        # inspired from: https://github.com/keras-team/keras/blob/master/examples/variational_autoencoder.py#L34\n",
    "        # but here we let the model approximate the stdev instead of the variance\n",
    "        epsilon = K.random_normal(shape=K.shape(mu), mean=0, stddev=1)\n",
    "        # mean + std * epsilon ~ N(mean, std) since epsilon ~ N(0, 1)\n",
    "           \n",
    "        # Kullback-Leibler divergence to N(0,1)\n",
    "        kl_loss = - 0.5 * K.sum(1 + 2*log_sigma - K.square(mu) - K.exp(2*log_sigma), axis=-1)\n",
    "        self.add_loss(K.mean(kl_loss), inputs=[mu, log_sigma])\n",
    "        \n",
    "        return mu + (K.exp(log_sigma) * epsilon)\n",
    "    \n",
    "class GaussianImportanceWeightedSample(GaussianSample):\n",
    "    def __init__(self, samples, **kwargs):\n",
    "        self.samples = samples\n",
    "        super(GaussianImportanceWeightedSample, self).__init__(**kwargs)\n",
    "    def call(self, inputs):\n",
    "        z = super(GaussianImportanceWeightedSample, self).call(inputs)\n",
    "        for _ in range(self.samples-1):\n",
    "            z = z + super(GaussianImportanceWeightedSample, self).call(inputs)\n",
    "        return z / self.samples"
   ]
  },
  {
   "cell_type": "code",
   "execution_count": null,
   "metadata": {},
   "outputs": [],
   "source": [
    "def build_model(encoder, decoder):\n",
    "    x = Input((64, 64, 3))\n",
    "    \n",
    "    enc = encoder()\n",
    "    h = Dense(100, activation='relu')(enc(x))\n",
    "    \n",
    "    z_mean = Dense(100)(h)\n",
    "    z_log_std = Dense(100)(h)\n",
    "    \n",
    "    z = z_mean #GaussianSample()([z_mean, z_log_std])\n",
    "   \n",
    "    dec = decoder(input_shape=(100,))\n",
    "    \n",
    "    y = dec(z)\n",
    "\n",
    "    model = Model(inputs=[x], outputs=[y, z])\n",
    "    model.compile(optimizer='adam', loss=['mean_squared_error', None])\n",
    "\n",
    "    return model"
   ]
  },
  {
   "cell_type": "code",
   "execution_count": null,
   "metadata": {},
   "outputs": [],
   "source": [
    "build_model(build_encoder, build_strided_deconv_decoder).summary()"
   ]
  },
  {
   "cell_type": "code",
   "execution_count": null,
   "metadata": {},
   "outputs": [],
   "source": [
    "vae_strided_model = build_model(build_encoder, build_strided_deconv_decoder)\n",
    "vae_strided_model_history = vae_strided_model.fit(train_X[:20], train_y[:20], epochs=20, batch_size=128, callbacks=[ModelCheckpoint('models/vae-strided-deconv-decoder.h5')])"
   ]
  },
  {
   "cell_type": "code",
   "execution_count": null,
   "metadata": {},
   "outputs": [],
   "source": [
    "plt.imshow(train_X[0])"
   ]
  },
  {
   "cell_type": "code",
   "execution_count": null,
   "metadata": {},
   "outputs": [],
   "source": [
    "plt.imshow(vae_strided_model.predict(train_X[[0]])[0][0].astype('uint8'))"
   ]
  },
  {
   "cell_type": "code",
   "execution_count": null,
   "metadata": {},
   "outputs": [],
   "source": [
    "vae_nearest_model = build_model(build_encoder, build_nearest_upsampling_decoder)\n",
    "vae_nearest_model_history = vae_nearest_model.fit(train_X, train_y, epochs=5, validation_split=0.1, callbacks=[ModelCheckpoint('models/vae-nearest-neighbor-upsampling-decoder.h5')])"
   ]
  },
  {
   "cell_type": "code",
   "execution_count": null,
   "metadata": {},
   "outputs": [],
   "source": [
    "vae_bilinear_model = build_model(build_encoder, build_bilinear_upsampling_decoder)\n",
    "vae_bilinear_model_history = vae_bilinear_model.fit(train_X, train_y, epochs=5, validation_split=0.1, callbacks=[ModelCheckpoint('models/vae-bilinear-upsampling-decoder.h5')])"
   ]
  },
  {
   "cell_type": "code",
   "execution_count": null,
   "metadata": {},
   "outputs": [],
   "source": [
    "fig, axs = plt.subplots(3, 8, figsize=(8*2, 4*2))\n",
    "fig.subplots_adjust(wspace=0, hspace=0)\n",
    "\n",
    "for j in range(8):\n",
    "    axs[0][j].imshow(train_X[j])\n",
    "    axs[0][j].axis('off')\n",
    "\n",
    "for i, m in enumerate([vae_strided_model, vae_nearest_model]):\n",
    "    r = m.predict(train_X[:8].reshape(8, 64, 64, 3))\n",
    "    for j in range(8):\n",
    "        axs[i+1][j].imshow(r[0][j])\n",
    "        axs[i+1][j].axis('off')\n",
    "#plt.savefig('figures/examples-of-reconstructions', dpi=300)"
   ]
  },
  {
   "cell_type": "code",
   "execution_count": null,
   "metadata": {},
   "outputs": [],
   "source": [
    "from scipy.stats import norm\n",
    "z_dist = vae_strided_model.predict(train_X[:1000])[1]\n",
    "plt.hist(z_dist[:,:10], bins=50, histtype='step', density=True)\n",
    "plt.plot(np.linspace(-6, 6), norm.pdf(np.linspace(-6, 6)))\n",
    "plt.xlabel('z')\n",
    "plt.ylabel('Densité')\n",
    "plt.savefig('figures/latent-space-distribution', dpi=300)"
   ]
  },
  {
   "cell_type": "markdown",
   "metadata": {},
   "source": [
    "# 4. Variants"
   ]
  },
  {
   "cell_type": "code",
   "execution_count": null,
   "metadata": {},
   "outputs": [],
   "source": [
    "def build_wae_model(encoder, decoder):\n",
    "    x = Input((64, 64, 3))\n",
    "    \n",
    "    enc = encoder()\n",
    "    h = Dense(100, activation='tanh')(enc(x)\n",
    "    \n",
    "    z_mean = Dense(100)(h)\n",
    "    z_log_std = Dense(100, activation='tanh')(h) # bound the log stdev in [-1, 1], which corresponds to [-e, e]\n",
    "    \n",
    "    z = GaussianImportanceWeightedSample(samples=5)([z_mean, z_log_std])\n",
    "   \n",
    "    dec = decoder(input_shape=(100,))\n",
    "    \n",
    "    y = dec(z)\n",
    "\n",
    "    model = Model(inputs=[x], outputs=[y, z])\n",
    "    model.compile(optimizer='adam', loss=['binary_crossentropy', None], metrics=[bpp])\n",
    "\n",
    "    return model\n",
    "\n",
    "wvae_strided_model = build_wae_model(build_encoder, build_strided_deconv_decoder)\n",
    "wvae_strided_model_history = wvae_strided_model.fit(train_X, train_y, epochs=10, validation_split=0.1, batch_size=128, callbacks=[ModelCheckpoint('models/vae-weighted-strided-deconv-decoder.h5')])"
   ]
  },
  {
   "cell_type": "markdown",
   "metadata": {},
   "source": [
    "# Qualitative Evaluations"
   ]
  },
  {
   "cell_type": "code",
   "execution_count": null,
   "metadata": {},
   "outputs": [],
   "source": [
    "from keras.models import load_model\n",
    "vae_strided_model = load_model('models/vae-bilinear-upsampling-decoder.h5', custom_objects={'GaussianSample': GaussianSample})"
   ]
  },
  {
   "cell_type": "code",
   "execution_count": null,
   "metadata": {},
   "outputs": [],
   "source": [
    "fig, axs = plt.subplots(1, 11, figsize=(2*11, 2))\n",
    "fig.subplots_adjust(wspace=0, hspace=0)\n",
    "axs[0].imshow(train_X[2])\n",
    "axs[0].axis('off')\n",
    "\n",
    "for i in range(1, 11):\n",
    "    axs[i].imshow(vae_strided_model.predict(train_X[[2]])[0][0].astype('uint8'))\n",
    "    axs[i].axis('off')\n",
    "\n",
    "plt.savefig('figures/reconstruction', dpi=300)"
   ]
  },
  {
   "cell_type": "code",
   "execution_count": null,
   "metadata": {},
   "outputs": [],
   "source": [
    "fig, axs = plt.subplots(5, 2, figsize=(2*10, 2*100))\n",
    "fig.subplots_adjust(wspace=0, hspace=0)\n",
    "mu_space = np.linspace(0, 5, num=5) # 0 to 5 standard deviation\n",
    "for j in range(1):\n",
    "    latent_repr = K.eval(vae_strided_model.layers[-1](K.variable(mu_space[j]*np.eye(100))))\n",
    "    for i in range(5):\n",
    "        axs[i][j].imshow(latent_repr[i])\n",
    "        axs[i][j].axis('off')\n",
    "plt.savefig('figures/progression', dpi=300)"
   ]
  },
  {
   "cell_type": "code",
   "execution_count": null,
   "metadata": {},
   "outputs": [],
   "source": []
  }
 ],
 "metadata": {
  "kernelspec": {
   "display_name": "Python 3.6.2",
   "language": "python",
   "name": "python3.6.2"
  },
  "language_info": {
   "codemirror_mode": {
    "name": "ipython",
    "version": 3
   },
   "file_extension": ".py",
   "mimetype": "text/x-python",
   "name": "python",
   "nbconvert_exporter": "python",
   "pygments_lexer": "ipython3",
   "version": "3.6.2"
  }
 },
 "nbformat": 4,
 "nbformat_minor": 2
}
