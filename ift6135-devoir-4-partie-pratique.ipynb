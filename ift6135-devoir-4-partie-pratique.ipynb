{
 "cells": [
  {
   "cell_type": "code",
   "execution_count": null,
   "metadata": {},
   "outputs": [],
   "source": [
    "from keras.models import Sequential, Model\n",
    "from keras.metrics import mean_squared_error\n",
    "from keras.layers import InputLayer, Conv2D, Conv2DTranspose, Dense, Layer, UpSampling2D, MaxPooling2D, Flatten, Reshape, Input, Activation, LeakyReLU, Lambda\n",
    "from keras.callbacks import ModelCheckpoint\n",
    "import keras.backend as K\n",
    "from skimage.transform import resize\n",
    "from skimage.io import imread\n",
    "from zipfile import ZipFile\n",
    "from io import BytesIO\n",
    "import numpy as np\n",
    "import matplotlib.pyplot as plt\n",
    "%matplotlib inline\n",
    "import tensorflow as tf\n",
    "from keras.layers import BatchNormalization"
   ]
  },
  {
   "cell_type": "code",
   "execution_count": null,
   "metadata": {},
   "outputs": [],
   "source": [
    "with ZipFile('datasets/img_align_celeba.zip', 'r') as zf:\n",
    "    keys = [name for name in zf.namelist() if name.endswith('.jpg')]\n",
    "#    dataset = np.memmap('datasets/blob', dtype='uint8', mode='w+', shape=(len(keys), 64, 64, 3))\n",
    "#    for i, k in enumerate(keys):\n",
    "#        dataset[i] = resize(imread(BytesIO(zf.read(k))), output_shape=(64, 64, 3), mode='constant', preserve_range=True)"
   ]
  },
  {
   "cell_type": "code",
   "execution_count": null,
   "metadata": {},
   "outputs": [],
   "source": [
    "dataset = np.memmap('datasets/blob', dtype='uint8', mode='r', shape=(len(keys), 64, 64, 3))"
   ]
  },
  {
   "cell_type": "code",
   "execution_count": null,
   "metadata": {},
   "outputs": [],
   "source": [
    "train_X = dataset\n",
    "train_y = train_X"
   ]
  },
  {
   "cell_type": "code",
   "execution_count": null,
   "metadata": {},
   "outputs": [],
   "source": [
    "def build_encoder():\n",
    "    model = Sequential()\n",
    "    model.add(InputLayer(input_shape=(64,64,3)))\n",
    "    \n",
    "    model.add(BatchNormalization())\n",
    "    model.add(Conv2D(32, kernel_size=(3,3), padding='same'))\n",
    "    model.add(Conv2D(32, kernel_size=(3,3), padding='same'))\n",
    "    model.add(MaxPooling2D(pool_size=(2,2)))\n",
    "    model.add(Activation('relu'))\n",
    "    \n",
    "    model.add(BatchNormalization())\n",
    "    model.add(Conv2D(64, kernel_size=(3,3), padding='same'))\n",
    "    model.add(Conv2D(64, kernel_size=(3,3), padding='same'))\n",
    "    model.add(MaxPooling2D(pool_size=(2,2)))\n",
    "    model.add(Activation('relu'))\n",
    "\n",
    "    # flatten into 16x16x64 components\n",
    "    model.add(BatchNormalization())\n",
    "    model.add(Flatten())\n",
    "    \n",
    "    return model"
   ]
  },
  {
   "cell_type": "code",
   "execution_count": null,
   "metadata": {},
   "outputs": [],
   "source": [
    "def build_strided_deconv_decoder(input_shape):\n",
    "    model = Sequential()\n",
    "    model.add(InputLayer(input_shape))\n",
    "    \n",
    "    # unpack into 8*8\n",
    "    # input is already normalized since it follows a N(0,1)\n",
    "    model.add(Dense(16*16*64))\n",
    "    model.add(Reshape((16, 16, 64)))\n",
    "    \n",
    "    model.add(Conv2DTranspose(32, kernel_size=(3,3), strides=2, padding='same'))\n",
    "    model.add(Conv2DTranspose(32, kernel_size=(3,3), padding='same'))\n",
    "    model.add(Activation('relu'))\n",
    "    \n",
    "    model.add(Conv2DTranspose(3, kernel_size=(3,3), strides=2, padding='same'))\n",
    "    model.add(Conv2DTranspose(3, kernel_size=(3,3), padding='same'))\n",
    "    model.add(Activation('tanh'))\n",
    "    model.add(Lambda(lambda x: 255*(x+1))) # rescale to RGB\n",
    "        \n",
    "    return model"
   ]
  },
  {
   "cell_type": "code",
   "execution_count": null,
   "metadata": {},
   "outputs": [],
   "source": [
    "class NearestNeighborUpsampling2D(Layer):\n",
    "    def __init__(self, size=(2,2), **kwargs):\n",
    "        self.size = size\n",
    "        super(NearestNeighborUpsampling2D, self).__init__(**kwargs)\n",
    "    def build(self, input_shape):\n",
    "        super(NearestNeighborUpsampling2D, self).build(input_shape)\n",
    "    def call(self, x):\n",
    "        print()\n",
    "        w = K.shape(x)[1]\n",
    "        h = K.shape(x)[2]\n",
    "        return tf.image.resize_nearest_neighbor(x, (self.size[0] * w, self.size[1] * h))\n",
    "\n",
    "def build_nearest_upsampling_decoder(input_shape):\n",
    "    model = Sequential()\n",
    "    model.add(InputLayer(input_shape))\n",
    "    \n",
    "    # unpack into 8*8\n",
    "    model.add(Dense(16*16*64))\n",
    "    model.add(Reshape((16, 16, 64)))\n",
    "    \n",
    "    model.add(NearestNeighborUpsampling2D(size=(2,2)))\n",
    "    model.add(Conv2D(32, kernel_size=(3,3), padding='same'))\n",
    "    model.add(Conv2D(32, kernel_size=(3,3), padding='same'))\n",
    "    model.add(Activation('relu'))\n",
    "    \n",
    "    model.add(NearestNeighborUpsampling2D(size=(2,2)))\n",
    "    model.add(Conv2D(3, kernel_size=(3,3), padding='same'))\n",
    "    model.add(Conv2D(3, kernel_size=(3,3), padding='same'))\n",
    "    model.add(Activation('relu'))\n",
    "        \n",
    "    return model"
   ]
  },
  {
   "cell_type": "code",
   "execution_count": null,
   "metadata": {},
   "outputs": [],
   "source": [
    "class BilinearUpSampling2D(Layer):\n",
    "    def __init__(self, size=(2,2), **kwargs):\n",
    "        self.size = size\n",
    "        super(BilinearUpSampling2D, self).__init__(**kwargs)\n",
    "    def build(self, input_shape):\n",
    "        super(BilinearUpSampling2D, self).build(input_shape)\n",
    "    def call(self, x):\n",
    "        print()\n",
    "        w = K.shape(x)[1]\n",
    "        h = K.shape(x)[2]\n",
    "        return tf.image.resize_bilinear(x, (self.size[0] * w, self.size[1] * h))\n",
    "\n",
    "def build_bilinear_upsampling_decoder(input_shape):\n",
    "    model = Sequential()\n",
    "    model.add(InputLayer(input_shape))\n",
    "    \n",
    "    # unpack into 8*8\n",
    "    model.add(Dense(16*16*64))\n",
    "    model.add(Reshape((16, 16, 64)))\n",
    "    \n",
    "    model.add(BilinearUpSampling2D(size=(2,2)))\n",
    "    model.add(Conv2D(32, kernel_size=(3,3), padding='same'))\n",
    "    model.add(Conv2D(32, kernel_size=(3,3), padding='same'))\n",
    "    model.add(Activation('relu'))\n",
    "    \n",
    "    model.add(BilinearUpSampling2D(size=(2,2)))\n",
    "    model.add(Conv2D(3, kernel_size=(3,3), padding='same'))\n",
    "    model.add(Conv2D(3, kernel_size=(3,3), padding='same'))\n",
    "    model.add(Activation('relu'))\n",
    "        \n",
    "    return model"
   ]
  },
  {
   "cell_type": "code",
   "execution_count": null,
   "metadata": {},
   "outputs": [],
   "source": [
    "def build_model(encoder, decoder):\n",
    "    x = Input((64, 64, 3))\n",
    "    \n",
    "    latent_dims = 100\n",
    "    \n",
    "    enc = encoder()\n",
    "    h = enc(x)\n",
    "    \n",
    "    z_mean = Dense(100)(h)\n",
    "    z_log_std = Dense(100, activation='tanh')(h) # bound the log stdev in [-1, 1], which corresponds to [-e, e]\n",
    "    \n",
    "    def sample(inputs):\n",
    "        mean, log_std = inputs\n",
    "        # inspired from: https://github.com/keras-team/keras/blob/master/examples/variational_autoencoder.py#L34\n",
    "        # but here we let the model approximate the stdev instead of the variance\n",
    "        epsilon = K.random_normal(shape=(K.shape(mean)[0], latent_dims), mean=0, stddev=1)\n",
    "        # mean + std * epsilon ~ N(mean, std) since epsilon ~ N(0, 1)\n",
    "        return mean + (K.exp(log_std) * epsilon)\n",
    "    \n",
    "    z = Lambda(sample)([z_mean, z_log_std])\n",
    "   \n",
    "    dec = decoder(input_shape=(100,))\n",
    "    \n",
    "    y = dec(z)\n",
    "   \n",
    "    # Kullback-Leibler divergence\n",
    "    kl_loss = - 0.5 * K.sum(1 + 2*z_log_std - K.square(z_mean) - K.exp(2*z_log_std), axis=-1)\n",
    "    \n",
    "    vae_loss = mean_squared_error(K.flatten(x), K.flatten(y)) + K.mean(kl_loss)\n",
    "\n",
    "    model = Model(inputs=[x], outputs=[y, z])\n",
    "    model.add_loss(vae_loss)\n",
    "    model.compile(optimizer='adam', loss=[None, None])\n",
    "\n",
    "    return model"
   ]
  },
  {
   "cell_type": "code",
   "execution_count": null,
   "metadata": {},
   "outputs": [],
   "source": [
    "vae_strided_model = build_model(build_encoder, build_strided_deconv_decoder)\n",
    "vae_strided_model_history = vae_strided_model.fit(train_X[:1000], epochs=30, validation_split=0.33, callbacks=[ModelCheckpoint('models/vae-strided-deconv-decoder.h5')])"
   ]
  },
  {
   "cell_type": "code",
   "execution_count": null,
   "metadata": {},
   "outputs": [],
   "source": [
    "vae_nearest_model = build_model(build_encoder, build_nearest_upsampling_decoder)\n",
    "vae_nearest_model_history = vae_nearest_model.fit(train_X[:10000], epochs=30, validation_split=0.33, callbacks=[ModelCheckpoint('models/vae-nearest-neighbor-upsampling-decoder.h5')])"
   ]
  },
  {
   "cell_type": "code",
   "execution_count": null,
   "metadata": {},
   "outputs": [],
   "source": [
    "vae_bilinear_model = build_model(build_encoder, build_bilinear_upscaling_decoder)\n",
    "vae_bilinear_model_history = vae_bilinear_model.fit(train_X[:10000], epochs=30, validation_split=0.33, callbacks=[ModelCheckpoint('models/vae-bilinear-upsampling-decoder.h5')])"
   ]
  },
  {
   "cell_type": "code",
   "execution_count": null,
   "metadata": {},
   "outputs": [],
   "source": [
    "fig, axs = plt.subplots(4, 8, figsize=(8*2, 4*2))\n",
    "reconstructions = vae_strided_model.predict(train_X[:32].reshape(32, 64, 64, 3))\n",
    "fig.subplots_adjust(wspace=0, hspace=0)\n",
    "for i in range(4):\n",
    "    for j in range(0, 8, 2):\n",
    "        axs[i][j].imshow(train_X[i*4+j])\n",
    "        axs[i][j+1].imshow(reconstructions[0][i*4+j].astype('uint8'))\n",
    "        axs[i][j].axis('off')\n",
    "        axs[i][j+1].axis('off')\n",
    "plt.savefig('figures/examples-of-reconstructions', dpi=300)"
   ]
  },
  {
   "cell_type": "code",
   "execution_count": null,
   "metadata": {},
   "outputs": [],
   "source": [
    "z_dist = model.predict(train_X)[1]\n",
    "for i in range(10):\n",
    "    plt.hist(z_dist[:,i], bins=100, histtype='step')\n",
    "plt.savefig('figures/latent-space-distribution', dpi=300)"
   ]
  },
  {
   "cell_type": "code",
   "execution_count": null,
   "metadata": {},
   "outputs": [],
   "source": [
    "fig, axs = plt.subplots(20, 10, figsize=(2*10, 2*20))\n",
    "fig.subplots_adjust(wspace=0, hspace=0)\n",
    "mu_space = np.linspace(0, 20, num=10)\n",
    "for j in range(10):\n",
    "    latent_repr = K.eval(model.layers[-1](K.variable(mu_space[j]*np.eye(100)))).astype('uint8')\n",
    "    for i in range(20):\n",
    "        axs[i][j].imshow(latent_repr[i])\n",
    "        axs[i][j].axis('off')\n",
    "plt.savefig('figures/progression', dpi=300)"
   ]
  },
  {
   "cell_type": "code",
   "execution_count": null,
   "metadata": {},
   "outputs": [],
   "source": [
    "from keras.layers import GaussianNoise\n",
    "denoiser = Sequential()\n",
    "\n",
    "denoiser.add(Conv2D(32, kernel_size=(3,3), activation='relu', input_shape=(64, 64, 3), padding='same'))\n",
    "denoiser.add(Conv2D(64, kernel_size=(3,3), activation='relu', padding='same'))\n",
    "\n",
    "denoiser.add(Conv2DTranspose(32, kernel_size=(3,3), padding='same', activation='relu'))\n",
    "denoiser.add(Conv2DTranspose(3, kernel_size=(3,3), padding='same', activation='relu'))\n",
    "\n",
    "denoiser.compile(optimizer='adam', loss='mean_squared_error')\n",
    "denoiser.fit(train_X[:1000] + np.random.normal(0, 1, train_X[:1000].shape), train_y[:1000], epochs=100, validation_split=0.33, callbacks=[ModelCheckpoint('models/denoiser.h5')])"
   ]
  },
  {
   "cell_type": "code",
   "execution_count": null,
   "metadata": {},
   "outputs": [],
   "source": [
    "from keras.models import load_model\n",
    "denoiser = load_model('models/denoiser.h5')"
   ]
  },
  {
   "cell_type": "code",
   "execution_count": null,
   "metadata": {},
   "outputs": [],
   "source": [
    "fig, axs = plt.subplots(1, 2, figsize=(8, 4))\n",
    "axs[0].imshow(model.predict(train_X[[0]])[0][0].astype('uint8'))\n",
    "axs[1].imshow(denoiser.predict(model.predict(train_X[[0]])[0])[0].astype('uint8'))"
   ]
  },
  {
   "cell_type": "code",
   "execution_count": null,
   "metadata": {},
   "outputs": [],
   "source": []
  }
 ],
 "metadata": {
  "kernelspec": {
   "display_name": "Python 3.6.2",
   "language": "python",
   "name": "python3.6.2"
  },
  "language_info": {
   "codemirror_mode": {
    "name": "ipython",
    "version": 3
   },
   "file_extension": ".py",
   "mimetype": "text/x-python",
   "name": "python",
   "nbconvert_exporter": "python",
   "pygments_lexer": "ipython3",
   "version": "3.6.2"
  }
 },
 "nbformat": 4,
 "nbformat_minor": 2
}
